{
 "cells": [
  {
   "cell_type": "markdown",
   "metadata": {},
   "source": [
    "# Response format - Example"
   ]
  },
  {
   "cell_type": "code",
   "execution_count": 8,
   "metadata": {},
   "outputs": [],
   "source": [
    "import os\n",
    "from openai import OpenAI\n",
    "from pydantic import BaseModel, Field\n",
    "from typing import Optional, List"
   ]
  },
  {
   "cell_type": "markdown",
   "metadata": {},
   "source": [
    "## 初始化客户端"
   ]
  },
  {
   "cell_type": "code",
   "execution_count": 9,
   "metadata": {},
   "outputs": [],
   "source": [
    "# 这里使用 OpenAI SDK 调用 智谱AI-API\n",
    "os.environ[\"OPENAI_API_KEY\"] = \"*******************\"\n",
    "os.environ[\"OPENAI_BASE_URL\"] = \"https://open.bigmodel.cn/api/paas/v4/\"\n",
    "\n",
    "client = OpenAI(\n",
    "    # api_key=\"YOUR_API_KEY\",\n",
    "    # base_url=\"BASE_URL\"\n",
    ")"
   ]
  },
  {
   "cell_type": "markdown",
   "metadata": {},
   "source": [
    "## 生成引导提示词\n",
    "\n",
    "`@format_prompt_getter`：装饰在BaseModel上，能够为Model提供两个方法，分别是："
   ]
  },
  {
   "cell_type": "code",
   "execution_count": 10,
   "metadata": {},
   "outputs": [],
   "source": [
    "from response_format import format_prompt_getter\n",
    "\n",
    "class Book(BaseModel):\n",
    "    title: str = Field(description=\"书名\")\n",
    "    author: Optional[str] = Field(description=\"书的作者\")\n",
    "\n",
    "@format_prompt_getter\n",
    "class FamoursBook(BaseModel):\n",
    "    books: List[Book] = Field(description=\"书籍列表\")"
   ]
  },
  {
   "cell_type": "markdown",
   "metadata": {},
   "source": [
    "- `get_response_format_prompt`：解析模型结构和其字段信息（包括每个子模型的字段信息），获取对应的引导提示词和JSON样例，提示模型输出正确的 JSON 格式。"
   ]
  },
  {
   "cell_type": "code",
   "execution_count": 11,
   "metadata": {},
   "outputs": [
    {
     "name": "stdout",
     "output_type": "stream",
     "text": [
      "get_response_format_prompt: \n",
      "Kindly provide the response if you have the answer and output them in JSON format.\n",
      "\n",
      "EXAMPLE JSON OUTPUT AND DESCRIPTIONS:\n",
      "{\n",
      "    \"books\": [\n",
      "        {\n",
      "            \"title\": \"书名\",\n",
      "            \"author\": \"书的作者\"\n",
      "        },\n",
      "        (... more books.书籍列表 ...)\n",
      "    ]\n",
      "}\n",
      "\n"
     ]
    }
   ],
   "source": [
    "print(f\"get_response_format_prompt: \\n{FamoursBook.get_response_format_prompt()}\")"
   ]
  },
  {
   "cell_type": "markdown",
   "metadata": {},
   "source": [
    "- `get_json_output_prompt`: 相比`get_response_format_prompt`方法，该方法仅给出了希望模型输出的 JSON 格式的样例，本质上是也是一个提示词，你可以在此基础上增加自定义的引导提示词内容。\n",
    "- 对于可迭代类型的字段，该方法会额外增加提示词`(... more books.{book.field_info.description} ...)`以描述可迭代对象，除此之外不包含额外的提示语内容。"
   ]
  },
  {
   "cell_type": "code",
   "execution_count": 12,
   "metadata": {},
   "outputs": [
    {
     "name": "stdout",
     "output_type": "stream",
     "text": [
      "get_json_output_prompt: \n",
      "{\n",
      "    \"books\": [\n",
      "        {\n",
      "            \"title\": \"书名\",\n",
      "            \"author\": \"书的作者\"\n",
      "        },\n",
      "        (... more books.书籍列表 ...)\n",
      "    ]\n",
      "}\n"
     ]
    }
   ],
   "source": [
    "print(f\"get_json_output_prompt: \\n{FamoursBook.get_json_output_prompt()}\")"
   ]
  },
  {
   "cell_type": "markdown",
   "metadata": {},
   "source": [
    "如果你不喜欢在JSON样例中出现类似``(... more ***.*** ...)``等提示词，可以使用`parse_model_to_json`方法将模型解析为JSON文本和JSON对象。"
   ]
  },
  {
   "cell_type": "code",
   "execution_count": 13,
   "metadata": {},
   "outputs": [
    {
     "name": "stdout",
     "output_type": "stream",
     "text": [
      "model_to_json_text: \n",
      "{\n",
      "  \"books\": [\n",
      "    {\n",
      "      \"title\": \"书名\",\n",
      "      \"author\": \"书的作者\"\n",
      "    }\n",
      "  ]\n",
      "}\n",
      "model_to_json_obj: \n",
      "{'books': [{'title': '书名', 'author': '书的作者'}]}\n"
     ]
    }
   ],
   "source": [
    "from response_format import parse_model_to_json\n",
    "\n",
    "json_text, json_obj = parse_model_to_json(FamoursBook)\n",
    "\n",
    "print(f\"model_to_json_text: \\n{json_text}\")\n",
    "print(f\"model_to_json_obj: \\n{json_obj}\")"
   ]
  },
  {
   "cell_type": "markdown",
   "metadata": {},
   "source": [
    "## 通过提示使模型以结构化输出\n",
    "\n",
    "这里通过`FamoursBook.get_response_format_prompt()`获取模型`FamoursBook`对应的Response-Format Prompt（引导提示词和JSON样例），并作为 System Prompt 插入到对话中。\n",
    "传入的 `system` 的提示词更有利于让模型严格按照希望的 JSON 格式来输出，以实现输出的结构化，便于后续逻辑进行解析。\n",
    "\n",
    "### 注意事项\n",
    "1. 用户传入的 `system` 或 `user` 的 prompt 中必须含有 json 字样，并给出希望模型输出的 JSON 格式的样例，以指导模型来输出合法 JSON。\n",
    "2. 需要合理设置 `max_tokens` 参数(足够长)，防止 JSON 字符串被中途截断。"
   ]
  },
  {
   "cell_type": "code",
   "execution_count": 14,
   "metadata": {},
   "outputs": [],
   "source": [
    "user_prompt = \"\"\"中国的四大名著是指那几本书？\"\"\"\n",
    "response = client.chat.completions.create(\n",
    "    model=\"glm-4-flash\",\n",
    "    messages=[\n",
    "        {\"role\": \"system\", \"content\": f\"{FamoursBook.get_response_format_prompt()}\"},\n",
    "        {\"role\": \"user\", \"content\": f\"{user_prompt}\"}\n",
    "    ],\n",
    "    top_p=0.7,\n",
    "    temperature=0.1,\n",
    "    max_tokens=4000\n",
    ")"
   ]
  },
  {
   "cell_type": "markdown",
   "metadata": {},
   "source": [
    "## 解析模型输出结果"
   ]
  },
  {
   "cell_type": "code",
   "execution_count": 15,
   "metadata": {},
   "outputs": [
    {
     "name": "stdout",
     "output_type": "stream",
     "text": [
      "client: \n",
      "```json\n",
      "{\n",
      "    \"books\": [\n",
      "        {\n",
      "            \"title\": \"红楼梦\",\n",
      "            \"author\": \"曹雪芹\"\n",
      "        },\n",
      "        {\n",
      "            \"title\": \"西游记\",\n",
      "            \"author\": \"吴承恩\"\n",
      "        },\n",
      "        {\n",
      "            \"title\": \"三国演义\",\n",
      "            \"author\": \"罗贯中\"\n",
      "        },\n",
      "        {\n",
      "            \"title\": \"水浒传\",\n",
      "            \"author\": \"施耐庵\"\n",
      "        }\n",
      "    ]\n",
      "}\n",
      "```\n"
     ]
    }
   ],
   "source": [
    "print(f\"client: \\n{response.choices[0].message.content}\")"
   ]
  },
  {
   "cell_type": "markdown",
   "metadata": {},
   "source": [
    "`parse_content_to_json`：解析大模型的输出内容，截取` ```json ` 和 ` ``` `中的文本内容，并转换为JSON字符串和JSON对象。"
   ]
  },
  {
   "cell_type": "code",
   "execution_count": 16,
   "metadata": {},
   "outputs": [
    {
     "name": "stdout",
     "output_type": "stream",
     "text": [
      "json_text: \n",
      "{\n",
      "    \"books\": [\n",
      "        {\n",
      "            \"title\": \"红楼梦\",\n",
      "            \"author\": \"曹雪芹\"\n",
      "        },\n",
      "        {\n",
      "            \"title\": \"西游记\",\n",
      "            \"author\": \"吴承恩\"\n",
      "        },\n",
      "        {\n",
      "            \"title\": \"三国演义\",\n",
      "            \"author\": \"罗贯中\"\n",
      "        },\n",
      "        {\n",
      "            \"title\": \"水浒传\",\n",
      "            \"author\": \"施耐庵\"\n",
      "        }\n",
      "    ]\n",
      "}\n",
      "json_object: \n",
      "{'books': [{'title': '红楼梦', 'author': '曹雪芹'}, {'title': '西游记', 'author': '吴承恩'}, {'title': '三国演义', 'author': '罗贯中'}, {'title': '水浒传', 'author': '施耐庵'}]}\n"
     ]
    }
   ],
   "source": [
    "from response_format import parse_content_to_json\n",
    "\n",
    "json_text, json_object = parse_content_to_json(\n",
    "    response.choices[0].message.content\n",
    ")\n",
    "print(f\"json_text: \\n{json_text}\")\n",
    "print(f\"json_object: \\n{json_object}\")"
   ]
  },
  {
   "cell_type": "markdown",
   "metadata": {},
   "source": [
    "# 利用JSON对象实例化模型对象\n",
    "\n",
    "利用`BaseModel`提供的`model_validate`方法，能够将前面解析得到的JSON对象实例化为模型对象。"
   ]
  },
  {
   "cell_type": "code",
   "execution_count": 17,
   "metadata": {},
   "outputs": [
    {
     "name": "stdout",
     "output_type": "stream",
     "text": [
      "书名: 红楼梦 —— 作者：曹雪芹\n",
      "书名: 西游记 —— 作者：吴承恩\n",
      "书名: 三国演义 —— 作者：罗贯中\n",
      "书名: 水浒传 —— 作者：施耐庵\n"
     ]
    }
   ],
   "source": [
    "for book in FamoursBook.model_validate(json_object).books:\n",
    "    print(f\"书名: {book.title} —— 作者：{book.author}\")"
   ]
  }
 ],
 "metadata": {
  "kernelspec": {
   "display_name": "Python 3",
   "language": "python",
   "name": "python3"
  },
  "language_info": {
   "codemirror_mode": {
    "name": "ipython",
    "version": 3
   },
   "file_extension": ".py",
   "mimetype": "text/x-python",
   "name": "python",
   "nbconvert_exporter": "python",
   "pygments_lexer": "ipython3",
   "version": "3.11.9"
  }
 },
 "nbformat": 4,
 "nbformat_minor": 2
}
